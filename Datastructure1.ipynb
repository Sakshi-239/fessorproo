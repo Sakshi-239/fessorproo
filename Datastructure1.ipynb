{
  "nbformat": 4,
  "nbformat_minor": 0,
  "metadata": {
    "colab": {
      "provenance": [],
      "toc_visible": true,
      "authorship_tag": "ABX9TyPJKZraOkq7Kpd1Y6oPiUCs",
      "include_colab_link": true
    },
    "kernelspec": {
      "name": "python3",
      "display_name": "Python 3"
    },
    "language_info": {
      "name": "python"
    }
  },
  "cells": [
    {
      "cell_type": "markdown",
      "metadata": {
        "id": "view-in-github",
        "colab_type": "text"
      },
      "source": [
        "<a href=\"https://colab.research.google.com/github/Sakshi-239/fessorproo/blob/main/Datastructure1.ipynb\" target=\"_parent\"><img src=\"https://colab.research.google.com/assets/colab-badge.svg\" alt=\"Open In Colab\"/></a>"
      ]
    },
    {
      "cell_type": "markdown",
      "source": [
        "**Problem 1**"
      ],
      "metadata": {
        "id": "nlHTbL0yhJxa"
      }
    },
    {
      "cell_type": "code",
      "source": [
        "stock_prices = [120, 135, 150, 145, 155]\n",
        "max_price = max(stock_prices)\n",
        "print(f'Maximum Stock Price:{max_price}')"
      ],
      "metadata": {
        "colab": {
          "base_uri": "https://localhost:8080/"
        },
        "id": "5Uo1M_gPhSP7",
        "outputId": "fd1a7896-4c8c-4e84-f199-7941b39b17e9"
      },
      "execution_count": 1,
      "outputs": [
        {
          "output_type": "stream",
          "name": "stdout",
          "text": [
            "Maximum Stock Price:155\n"
          ]
        }
      ]
    },
    {
      "cell_type": "markdown",
      "source": [
        "**Problem 2**"
      ],
      "metadata": {
        "id": "8rUByyEGhzEH"
      }
    },
    {
      "cell_type": "code",
      "source": [
        "financial_data = (2024, 100000, 75000)\n",
        "year, revenue, expense = financial_data\n",
        "print(f'Year: {year}, Revenue: ${revenue}, Expense: ${expense}')"
      ],
      "metadata": {
        "colab": {
          "base_uri": "https://localhost:8080/"
        },
        "id": "9hKqey8vh5L-",
        "outputId": "27adb88d-f94c-4bc1-b780-6eb0210a4054"
      },
      "execution_count": 2,
      "outputs": [
        {
          "output_type": "stream",
          "name": "stdout",
          "text": [
            "Year: 2024, Revenue: $100000, Expense: $75000\n"
          ]
        }
      ]
    },
    {
      "cell_type": "markdown",
      "source": [
        "**Problem 3**"
      ],
      "metadata": {
        "id": "2j41GDlsjAgk"
      }
    },
    {
      "cell_type": "code",
      "source": [
        "stock_prices = {\"AAPL\": 125, \"MSFT\": 200, \"AMZN\": 310}\n",
        "stock_prices['MSFT']=210\n",
        "print(stock_prices)"
      ],
      "metadata": {
        "colab": {
          "base_uri": "https://localhost:8080/"
        },
        "id": "pMP8dTzIjGBA",
        "outputId": "41bac928-3c91-42b4-a56c-771777e88049"
      },
      "execution_count": 3,
      "outputs": [
        {
          "output_type": "stream",
          "name": "stdout",
          "text": [
            "{'AAPL': 125, 'MSFT': 210, 'AMZN': 310}\n"
          ]
        }
      ]
    },
    {
      "cell_type": "markdown",
      "source": [
        "**Problem 4**"
      ],
      "metadata": {
        "id": "7sEnbhzkjSqb"
      }
    },
    {
      "cell_type": "code",
      "source": [
        "sectors = {\"Technology\", \"Healthcare\", \"Finance\"}\n",
        "sectors.update({'Energy'})\n",
        "print(f'updated_sectors:{sectors}')"
      ],
      "metadata": {
        "colab": {
          "base_uri": "https://localhost:8080/"
        },
        "id": "iQ_khPI6jVO4",
        "outputId": "9566ffc5-bc48-4aef-c22e-398ca9ab1f05"
      },
      "execution_count": 5,
      "outputs": [
        {
          "output_type": "stream",
          "name": "stdout",
          "text": [
            "updated_sectors:{'Finance', 'Energy', 'Healthcare', 'Technology'}\n"
          ]
        }
      ]
    },
    {
      "cell_type": "markdown",
      "source": [
        "**Problem 5**"
      ],
      "metadata": {
        "id": "QHcwIGCglfMU"
      }
    },
    {
      "cell_type": "code",
      "source": [
        "portfolio1 = {\"AAPL\": 100, \"MSFT\": 150}\n",
        "portfolio2 = {\"GOOGL\": 200, \"AMZN\": 250}\n",
        "\n",
        "portfolio1.update(portfolio2)\n",
        "print(portfolio1)"
      ],
      "metadata": {
        "colab": {
          "base_uri": "https://localhost:8080/"
        },
        "id": "tsPBQ7gXlipT",
        "outputId": "9eee8f19-2688-4eb1-9fb3-cce3e8d33941"
      },
      "execution_count": 6,
      "outputs": [
        {
          "output_type": "stream",
          "name": "stdout",
          "text": [
            "{'AAPL': 100, 'MSFT': 150, 'GOOGL': 200, 'AMZN': 250}\n"
          ]
        }
      ]
    },
    {
      "cell_type": "markdown",
      "source": [
        "**Problem 6**"
      ],
      "metadata": {
        "id": "OP-eWUlQmr5b"
      }
    },
    {
      "cell_type": "code",
      "source": [
        "budget_allocation = {\"Marketing\": 5000, \"R&D\": 10000, \"HR\": 4000}\n",
        "old_key = \"HR\"\n",
        "new_key = \"Human Resources\"\n",
        "\n",
        "budget_allocation[new_key] = budget_allocation.pop(old_key)\n",
        "print(\"Updated Budget Allocation:\", budget_allocation)\n"
      ],
      "metadata": {
        "colab": {
          "base_uri": "https://localhost:8080/"
        },
        "id": "ZBg9BtpLmuWB",
        "outputId": "20013d48-944e-40d5-9603-b90ffd7154ee"
      },
      "execution_count": 7,
      "outputs": [
        {
          "output_type": "stream",
          "name": "stdout",
          "text": [
            "Updated Budget Allocation: {'Marketing': 5000, 'R&D': 10000, 'Human Resources': 4000}\n"
          ]
        }
      ]
    },
    {
      "cell_type": "markdown",
      "source": [
        "**Problem 7**"
      ],
      "metadata": {
        "id": "fHTQRoXKmvb0"
      }
    },
    {
      "cell_type": "code",
      "source": [
        "company_budget = {\n",
        "    \"Finance\": {\"Salaries\": 50000, \"Equipment\": 10000},\n",
        "    \"Marketing\": {\"Advertising\": 15000, \"Supplies\": 5000}\n",
        "}\n",
        "a=company_budget.get('Marketing').get('Advertising')\n",
        "print(f'buget for advt in marketing department is :{a}')"
      ],
      "metadata": {
        "colab": {
          "base_uri": "https://localhost:8080/"
        },
        "id": "WjhwEljtmzs-",
        "outputId": "5720386b-87d0-464d-b5c8-e2a903dd18b2"
      },
      "execution_count": 8,
      "outputs": [
        {
          "output_type": "stream",
          "name": "stdout",
          "text": [
            "buget for advt in marketing department is :15000\n"
          ]
        }
      ]
    },
    {
      "cell_type": "markdown",
      "source": [
        "**Problem 8**"
      ],
      "metadata": {
        "id": "OqPgX695m0ia"
      }
    },
    {
      "cell_type": "code",
      "source": [
        "company_info = {\n",
        "    \"emp1\": {\"name\": \"John\", \"department\": \"Finance\", \"salary\": 70000},\n",
        "    \"emp2\": {\"name\": \"Emma\", \"department\": \"Marketing\", \"salary\": 65000},\n",
        "    \"emp3\": {\"name\": \"Alex\", \"department\": \"IT\", \"salary\": 72000}\n",
        "}\n",
        "\n",
        "employee = company_info[\"emp2\"]\n",
        "print(f\"{employee['name']} works in {employee['department']} with a salary of {employee['salary']}\")"
      ],
      "metadata": {
        "colab": {
          "base_uri": "https://localhost:8080/"
        },
        "id": "uyX-gLevm4Ie",
        "outputId": "27766801-f31c-4ff0-cc90-75baa7369039"
      },
      "execution_count": 9,
      "outputs": [
        {
          "output_type": "stream",
          "name": "stdout",
          "text": [
            "Emma works in Marketing with a salary of 65000\n"
          ]
        }
      ]
    },
    {
      "cell_type": "markdown",
      "source": [
        "**Problem 9**"
      ],
      "metadata": {
        "id": "DsDxu2bnm4ba"
      }
    },
    {
      "cell_type": "code",
      "source": [
        "company_projects = {\n",
        "    \"Project1\": {\"Manager\": \"John\", \"Budget\": 50000},\n",
        "    \"Project2\": {\"Manager\": \"Emma\", \"Budget\": 60000}\n",
        "}\n",
        "new_project = \"Project3\"\n",
        "new_details = {\"Manager\": \"Alex\", \"Budget\": 55000}\n",
        "\n",
        "company_projects[new_project] = new_details\n",
        "print(f'updated project is :{company_projects}')"
      ],
      "metadata": {
        "colab": {
          "base_uri": "https://localhost:8080/"
        },
        "id": "0c5LfS_5m7kf",
        "outputId": "0d8a1b59-2b53-469f-b44d-9365213c40e5"
      },
      "execution_count": 10,
      "outputs": [
        {
          "output_type": "stream",
          "name": "stdout",
          "text": [
            "updated project is :{'Project1': {'Manager': 'John', 'Budget': 50000}, 'Project2': {'Manager': 'Emma', 'Budget': 60000}, 'Project3': {'Manager': 'Alex', 'Budget': 55000}}\n"
          ]
        }
      ]
    },
    {
      "cell_type": "markdown",
      "source": [
        "**Problem 10**"
      ],
      "metadata": {
        "id": "XXSH7oyHm8Es"
      }
    },
    {
      "cell_type": "code",
      "source": [
        "current_currencies = [\"USD\", \"EUR\", \"JPY\"]\n",
        "new_currencies = [\"GBP\", \"AUD\"]\n",
        "current_currencies.extend(new_currencies)\n",
        "print(current_currencies)"
      ],
      "metadata": {
        "colab": {
          "base_uri": "https://localhost:8080/"
        },
        "id": "znPnEQE8nEk6",
        "outputId": "3f7a3c9c-4d14-443b-f47c-87e7d37d2ba4"
      },
      "execution_count": 11,
      "outputs": [
        {
          "output_type": "stream",
          "name": "stdout",
          "text": [
            "['USD', 'EUR', 'JPY', 'GBP', 'AUD']\n"
          ]
        }
      ]
    },
    {
      "cell_type": "markdown",
      "source": [
        "**Problem 11**"
      ],
      "metadata": {
        "id": "qupJ-Cnim__m"
      }
    },
    {
      "cell_type": "code",
      "source": [
        "transactions = [200, -150, 50, -40]\n",
        "transactions.reverse()\n",
        "print(transactions)"
      ],
      "metadata": {
        "colab": {
          "base_uri": "https://localhost:8080/"
        },
        "id": "Z3fV9TsznDnU",
        "outputId": "53590540-99d0-4124-c4a6-0af734ccb288"
      },
      "execution_count": 12,
      "outputs": [
        {
          "output_type": "stream",
          "name": "stdout",
          "text": [
            "[-40, 50, -150, 200]\n"
          ]
        }
      ]
    },
    {
      "cell_type": "markdown",
      "source": [
        "**Problem 12**"
      ],
      "metadata": {
        "id": "OW9Tuw99nFVz"
      }
    },
    {
      "cell_type": "code",
      "source": [
        "tickers = [\"AAPL\", \"MSFT\", \"GOOG\"]\n",
        "prices = [125, 200, 150]\n",
        "\n",
        "stock_prices = dict(zip(tickers, prices))\n",
        "print(stock_prices)"
      ],
      "metadata": {
        "colab": {
          "base_uri": "https://localhost:8080/"
        },
        "id": "5pjZ5aionIDZ",
        "outputId": "88872bca-f3e9-4506-8a77-469e9648eafa"
      },
      "execution_count": 13,
      "outputs": [
        {
          "output_type": "stream",
          "name": "stdout",
          "text": [
            "{'AAPL': 125, 'MSFT': 200, 'GOOG': 150}\n"
          ]
        }
      ]
    }
  ]
}