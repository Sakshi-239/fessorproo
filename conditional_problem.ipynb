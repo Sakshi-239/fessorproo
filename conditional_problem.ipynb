{
  "nbformat": 4,
  "nbformat_minor": 0,
  "metadata": {
    "colab": {
      "provenance": [],
      "authorship_tag": "ABX9TyO5grdVzVmNB27lb4zJNsEC",
      "include_colab_link": true
    },
    "kernelspec": {
      "name": "python3",
      "display_name": "Python 3"
    },
    "language_info": {
      "name": "python"
    }
  },
  "cells": [
    {
      "cell_type": "markdown",
      "metadata": {
        "id": "view-in-github",
        "colab_type": "text"
      },
      "source": [
        "<a href=\"https://colab.research.google.com/github/Sakshi-239/fessorproo/blob/main/conditional_problem.ipynb\" target=\"_parent\"><img src=\"https://colab.research.google.com/assets/colab-badge.svg\" alt=\"Open In Colab\"/></a>"
      ]
    },
    {
      "cell_type": "markdown",
      "source": [
        "**problem 1**\n"
      ],
      "metadata": {
        "id": "-3A2MFvWn8uo"
      }
    },
    {
      "cell_type": "code",
      "source": [
        "salary = 60000\n",
        "credit_score = 750\n",
        "\n",
        "if salary >= 50000 and credit_score >= 700:\n",
        "    print('loan eligibilty:approved')\n",
        "else:\n",
        "    print ('loan eligibilty:denied')"
      ],
      "metadata": {
        "colab": {
          "base_uri": "https://localhost:8080/"
        },
        "id": "rcS7LNxdoGul",
        "outputId": "7fde5699-2a45-4fe1-ed0e-2eb00b3b0fbb"
      },
      "execution_count": null,
      "outputs": [
        {
          "output_type": "stream",
          "name": "stdout",
          "text": [
            "loan eligibilty:approved\n"
          ]
        }
      ]
    },
    {
      "cell_type": "markdown",
      "source": [
        "**problem 2**"
      ],
      "metadata": {
        "id": "odXQMl34pfRI"
      }
    },
    {
      "cell_type": "code",
      "source": [
        "return_rate = 7\n",
        "\n",
        "if return_rate > 10:\n",
        "    print('high risk')\n",
        "elif return_rate >= 5 <= 10:\n",
        "    print('Moderate Risk')\n",
        "else :\n",
        "    print('low risk')\n"
      ],
      "metadata": {
        "colab": {
          "base_uri": "https://localhost:8080/"
        },
        "id": "ReLN0UlophAI",
        "outputId": "6e01fa90-fed8-446c-d4ee-59c2fe492d57"
      },
      "execution_count": null,
      "outputs": [
        {
          "output_type": "stream",
          "name": "stdout",
          "text": [
            "Moderate Risk\n"
          ]
        }
      ]
    },
    {
      "cell_type": "markdown",
      "source": [
        "**problem 3**"
      ],
      "metadata": {
        "id": "tQJ4OeydrfE7"
      }
    },
    {
      "cell_type": "code",
      "source": [
        "income = 75000\n",
        "\n",
        "if income <= 50000:\n",
        "    print ('10%')\n",
        "elif income >= 100000:\n",
        "    print('30%')\n",
        "else:\n",
        "    print('20%')"
      ],
      "metadata": {
        "colab": {
          "base_uri": "https://localhost:8080/"
        },
        "id": "bnZqYmm5rkp5",
        "outputId": "f2b6c541-50c9-4e0c-c0a5-570f4bdf9916"
      },
      "execution_count": null,
      "outputs": [
        {
          "output_type": "stream",
          "name": "stdout",
          "text": [
            "20%\n"
          ]
        }
      ]
    },
    {
      "cell_type": "markdown",
      "source": [
        "**problem 4**"
      ],
      "metadata": {
        "id": "7tzt216kt-ql"
      }
    },
    {
      "cell_type": "code",
      "source": [
        "gross_income = 50000\n",
        "intemized_deductions = 15000\n",
        "standard_deduction = 12400\n",
        "\n",
        "if intemized_deductions > standard_deduction:\n",
        "    agi = gross_income - intemized_deductions\n",
        "else:\n",
        "    agi= gross_income - standard_deduction\n",
        "\n",
        "print (f'adjusted gross income:{agi}')"
      ],
      "metadata": {
        "colab": {
          "base_uri": "https://localhost:8080/"
        },
        "id": "wblzb8IOuCjD",
        "outputId": "9dd5cd46-e980-4684-9cb4-98f5087b5163"
      },
      "execution_count": null,
      "outputs": [
        {
          "output_type": "stream",
          "name": "stdout",
          "text": [
            "adjusted gross income:35000\n"
          ]
        }
      ]
    },
    {
      "cell_type": "markdown",
      "source": [
        "**problrm 5**"
      ],
      "metadata": {
        "id": "ZgqJqBYXwsKu"
      }
    },
    {
      "cell_type": "code",
      "source": [
        "years_of_service =5.6\n",
        "performance_rating = 8.3\n",
        "\n",
        "if years_of_service > 5 and performance_rating >= 8:\n",
        "    print('yes')\n",
        "else:\n",
        "    print('no')"
      ],
      "metadata": {
        "colab": {
          "base_uri": "https://localhost:8080/"
        },
        "id": "oCEkZW8lwxI2",
        "outputId": "3e7ff9ff-fbbf-4db2-d66b-02286532ec02"
      },
      "execution_count": null,
      "outputs": [
        {
          "output_type": "stream",
          "name": "stdout",
          "text": [
            "yes\n"
          ]
        }
      ]
    },
    {
      "cell_type": "markdown",
      "source": [
        "**problem 6**"
      ],
      "metadata": {
        "id": "mFwLEDDDxudC"
      }
    },
    {
      "cell_type": "code",
      "source": [
        "purchase_price = float(input('enter purchase price:'))\n",
        "Selling_price = float(input('enter selling price:'))\n",
        "Num_shares = int(input('enter number of shares :'))\n",
        "\n",
        "profit_loss = (Selling_price - purchase_price) * Num_shares\n",
        "\n",
        "if profit_loss > 0:\n",
        "    print (f'profit:$ {profit_loss}')\n",
        "    if profit_loss > 2000:\n",
        "        category  = \"high\"\n",
        "    elif profit_loss < 1000:\n",
        "        category = \"low\"\n",
        "    else:\n",
        "        category = \"moderate\"\n",
        "\n",
        "else:\n",
        "    print (f'loss:$ {profit_loss}')\n",
        "    category =\"loss\"\n",
        "\n",
        "print (f'profit loss category:{category}')"
      ],
      "metadata": {
        "colab": {
          "base_uri": "https://localhost:8080/"
        },
        "id": "ocEfBBeCxy-D",
        "outputId": "9d494f6d-74c4-4ef2-f860-93e85dbf6446"
      },
      "execution_count": null,
      "outputs": [
        {
          "output_type": "stream",
          "name": "stdout",
          "text": [
            "enter purchase price:100\n",
            "enter selling price:121\n",
            "enter number of shares :50\n",
            "profit:$ 1050.0\n",
            "profit loss category:moderate\n"
          ]
        }
      ]
    },
    {
      "cell_type": "markdown",
      "source": [
        "**problrm 7**"
      ],
      "metadata": {
        "id": "FOfDOyUu6vr-"
      }
    },
    {
      "cell_type": "code",
      "source": [
        "loan_amount = float(input(\"Enter loan amount: \"))\n",
        "credit_score = int(input(\"Enter credit score: \"))\n",
        "\n",
        "if loan_amount >50000 :\n",
        "    if credit_score >= 750:\n",
        "     credit_score = 3\n",
        "    elif credit_score >= 700:\n",
        "      credit_score = 3.5\n",
        "    else:\n",
        "     credit_score = 4\n",
        "\n",
        "else:\n",
        "    credit_score = 2\n",
        "\n",
        "\n",
        "print (f'interest rate :{credit_score}%')"
      ],
      "metadata": {
        "colab": {
          "base_uri": "https://localhost:8080/"
        },
        "id": "uQelWeYD6zKh",
        "outputId": "2ae19b15-0954-4ac0-b462-fe0d28f9fbad"
      },
      "execution_count": null,
      "outputs": [
        {
          "output_type": "stream",
          "name": "stdout",
          "text": [
            "Enter loan amount: 50000\n",
            "Enter credit score: 720\n",
            "interest rate :2%\n"
          ]
        }
      ]
    },
    {
      "cell_type": "markdown",
      "source": [
        "**problem 8**"
      ],
      "metadata": {
        "id": "CzYjBLWYGJ3z"
      }
    },
    {
      "cell_type": "code",
      "source": [
        "age = int(input(\"Enter your age: \"))\n",
        "investment_amount = float(input(\"Enter your investment amount: \"))\n",
        "\n",
        "if age < 40:\n",
        "    if investment_amount >= 10000:\n",
        "        product = \"Mutual Funds\"\n",
        "    else:\n",
        "        product = \"Savings Account\"\n",
        "else:\n",
        "    if investment_amount >= 20000:\n",
        "        product = \"Government Bonds\"\n",
        "    else:\n",
        "        product = \"Fixed Deposit\"\n",
        "\n",
        "print(\"Recommended Product:\", product)"
      ],
      "metadata": {
        "id": "BmU5JoERGPyb",
        "outputId": "579c6f2e-006b-4109-bc4b-e825b8628495",
        "colab": {
          "base_uri": "https://localhost:8080/"
        }
      },
      "execution_count": null,
      "outputs": [
        {
          "output_type": "stream",
          "name": "stdout",
          "text": [
            "Enter your age: 30\n",
            "Enter your investment amount: 10000\n",
            "Recommended Product: Mutual Funds\n"
          ]
        }
      ]
    },
    {
      "cell_type": "markdown",
      "source": [
        "**problem 9**"
      ],
      "metadata": {
        "id": "hoHujo46y5ih"
      }
    },
    {
      "cell_type": "code",
      "source": [
        "age=int(input('enter your age:'))\n",
        "income=int(input('enter your income:'))\n",
        "status = input('employed? yes/no:')\n",
        "\n",
        "if age>=18 and income >=20000 and status =='yes':\n",
        "    result= 'approved'\n",
        "else:\n",
        "    result='denied'\n",
        "print(f'credit eligibility-{result}')"
      ],
      "metadata": {
        "colab": {
          "base_uri": "https://localhost:8080/"
        },
        "id": "NoCDmrQczBDG",
        "outputId": "60fe92f5-92f7-4b07-af92-c284bc144fd3"
      },
      "execution_count": null,
      "outputs": [
        {
          "output_type": "stream",
          "name": "stdout",
          "text": [
            "enter your age:21\n",
            "enter your income:30000\n",
            "employed? yes/no:yes\n",
            "credit eligibility-approved\n"
          ]
        }
      ]
    },
    {
      "cell_type": "markdown",
      "source": [
        "**problem 10**\n"
      ],
      "metadata": {
        "id": "tfcPJRtn3dv1"
      }
    },
    {
      "cell_type": "code",
      "source": [
        "credit_score = int(input('Enter your credit score:'))\n",
        "down_payment = float(input('Enter your down payment percentage (as a decimal):'))\n",
        "\n",
        "if credit_score >= 750:\n",
        "    rate = 2.7\n",
        "elif 700 <= credit_score < 750:\n",
        "    rate = 3.0\n",
        "else:\n",
        "    rate = 3.5\n",
        "\n",
        "if down_payment < 0.20:\n",
        "    rate + 0.5\n",
        "\n",
        "print(f'Estimated Mortgage Interest Rate:{rate}%')"
      ],
      "metadata": {
        "colab": {
          "base_uri": "https://localhost:8080/"
        },
        "id": "-FMhCRyM3hPg",
        "outputId": "5bbf9bd5-a716-46c5-99d5-b6fe9deea927"
      },
      "execution_count": null,
      "outputs": [
        {
          "output_type": "stream",
          "name": "stdout",
          "text": [
            "Enter your credit score:720\n",
            "Enter your down payment percentage (as a decimal):0.20\n",
            "Estimated Mortgage Interest Rate:3.0%\n"
          ]
        }
      ]
    }
  ]
}